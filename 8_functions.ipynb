{
 "cells": [
  {
   "cell_type": "markdown",
   "metadata": {},
   "source": [
    "# function"
   ]
  },
  {
   "cell_type": "code",
   "execution_count": 3,
   "metadata": {},
   "outputs": [
    {
     "data": {
      "text/plain": [
       "<function __main__.hello_fnc()>"
      ]
     },
     "execution_count": 3,
     "metadata": {},
     "output_type": "execute_result"
    }
   ],
   "source": [
    "def hello_fnc():\n",
    "    print('hello function!')\n",
    "\n",
    "hello_fnc"
   ]
  },
  {
   "cell_type": "code",
   "execution_count": 9,
   "metadata": {},
   "outputs": [
    {
     "name": "stdout",
     "output_type": "stream",
     "text": [
      "hello function.\n"
     ]
    }
   ],
   "source": [
    "def hello_fnc():\n",
    "    print('hello function!')\n",
    "\n",
    "hello_fnc()"
   ]
  },
  {
   "cell_type": "code",
   "execution_count": 6,
   "metadata": {},
   "outputs": [
    {
     "name": "stdout",
     "output_type": "stream",
     "text": [
      "hello_function!\n",
      "hello_function!\n",
      "hello_function!\n",
      "hello_function!\n",
      "hello_function.\n",
      "hello_function.\n",
      "hello_function.\n",
      "hello_function.\n"
     ]
    }
   ],
   "source": [
    "def hello_fnc():\n",
    "    print('hello function!')\n",
    "\n",
    "print('hello_function!')\n",
    "print('hello_function!')\n",
    "print('hello_function!')\n",
    "print('hello_function!')\n",
    "\n",
    "print('hello_function.')\n",
    "print('hello_function.')\n",
    "print('hello_function.')\n",
    "print('hello_function.')"
   ]
  },
  {
   "cell_type": "markdown",
   "metadata": {},
   "source": [
    "### it is usd to produce functions which can be altered i definition and whole programm where it is used will change"
   ]
  },
  {
   "cell_type": "code",
   "execution_count": 10,
   "metadata": {},
   "outputs": [
    {
     "name": "stdout",
     "output_type": "stream",
     "text": [
      "hello function.\n",
      "hello function.\n",
      "hello function.\n",
      "hello function.\n"
     ]
    }
   ],
   "source": [
    "def hello_fnc():\n",
    "    print('hello function.')\n",
    "\n",
    "hello_fnc()\n",
    "hello_fnc()\n",
    "hello_fnc()\n",
    "hello_fnc()           # DRY Code - Don't Repeat Yourself code"
   ]
  },
  {
   "cell_type": "code",
   "execution_count": 11,
   "metadata": {},
   "outputs": [],
   "source": [
    "def hello_fnc():\n",
    "    return 'hello function.'"
   ]
  },
  {
   "cell_type": "code",
   "execution_count": 12,
   "metadata": {},
   "outputs": [
    {
     "name": "stdout",
     "output_type": "stream",
     "text": [
      "hello function.\n"
     ]
    }
   ],
   "source": [
    "def hello_fnc():\n",
    "    return 'hello function.'\n",
    "print(hello_fnc())"
   ]
  },
  {
   "cell_type": "code",
   "execution_count": 13,
   "metadata": {},
   "outputs": [
    {
     "name": "stdout",
     "output_type": "stream",
     "text": [
      "4\n"
     ]
    }
   ],
   "source": [
    "print(len('test'))      # len is a built in function"
   ]
  },
  {
   "cell_type": "code",
   "execution_count": 14,
   "metadata": {},
   "outputs": [
    {
     "name": "stdout",
     "output_type": "stream",
     "text": [
      "HELLO FUNCTION.\n"
     ]
    }
   ],
   "source": [
    "print(hello_fnc().upper())"
   ]
  },
  {
   "cell_type": "code",
   "execution_count": 16,
   "metadata": {},
   "outputs": [
    {
     "name": "stdout",
     "output_type": "stream",
     "text": [
      "hi Function.\n"
     ]
    }
   ],
   "source": [
    "def hello_func(greet):         #'greet' will be 'hi'\n",
    "    return '{} Function.'.format(greet)\n",
    "\n",
    "print(hello_func('hi'))"
   ]
  },
  {
   "cell_type": "code",
   "execution_count": 17,
   "metadata": {},
   "outputs": [
    {
     "name": "stdout",
     "output_type": "stream",
     "text": [
      "hi You.\n"
     ]
    }
   ],
   "source": [
    "def hello_func(greet,name = 'You'):         #'greet' will be 'hi'\n",
    "    return '{} {}.'.format(greet,name)\n",
    "\n",
    "print(hello_func('hi'))"
   ]
  },
  {
   "cell_type": "code",
   "execution_count": 19,
   "metadata": {},
   "outputs": [
    {
     "name": "stdout",
     "output_type": "stream",
     "text": [
      "hi, cheeky.\n"
     ]
    }
   ],
   "source": [
    "def hello_func(greet,name = 'You'):         #'greet' will be 'hi'\n",
    "    return '{}, {}.'.format(greet,name)\n",
    "\n",
    "print(hello_func('hi',name = 'cheeky'))"
   ]
  },
  {
   "cell_type": "code",
   "execution_count": 21,
   "metadata": {},
   "outputs": [
    {
     "name": "stdout",
     "output_type": "stream",
     "text": [
      "('math', 'art')\n",
      "{'name': 'sujit', 'age': 23}\n"
     ]
    }
   ],
   "source": [
    "def students_info(*args, **kwargs):       # when the info is in large amount and unknown\n",
    "    print(args)\n",
    "    print(kwargs)\n",
    "    \n",
    "students_info('math', 'art', name= 'sujit', age= 23)"
   ]
  },
  {
   "cell_type": "markdown",
   "metadata": {},
   "source": [
    "###  **args creates positional arguments as tuple and ***kwargs creates dictionary with keyvals\n"
   ]
  },
  {
   "cell_type": "code",
   "execution_count": 24,
   "metadata": {},
   "outputs": [
    {
     "name": "stdout",
     "output_type": "stream",
     "text": [
      "(['math', 'art'], {'name': 'sujit', 'age': 23})\n",
      "{}\n"
     ]
    }
   ],
   "source": [
    "def students_info(*args, **kwargs):\n",
    "    print(args)\n",
    "    print(kwargs)\n",
    "    \n",
    "course = ['math', 'art']\n",
    "info = {'name': 'sujit', 'age': 23}\n",
    "    \n",
    "students_info(course,info)"
   ]
  },
  {
   "cell_type": "markdown",
   "metadata": {},
   "source": [
    "### instead of passing the value in individually it passes packed values of complete list as single argument. but when we use *course for list and **info for tuples, it creates unpacked individual elements from them. "
   ]
  },
  {
   "cell_type": "code",
   "execution_count": 25,
   "metadata": {},
   "outputs": [
    {
     "name": "stdout",
     "output_type": "stream",
     "text": [
      "('math', 'art')\n",
      "{'name': 'sujit', 'age': 23}\n"
     ]
    }
   ],
   "source": [
    "students_info(*course,**info)"
   ]
  },
  {
   "cell_type": "markdown",
   "metadata": {},
   "source": [
    "## one example for checking loop year"
   ]
  },
  {
   "cell_type": "code",
   "execution_count": 26,
   "metadata": {},
   "outputs": [],
   "source": [
    "month_days = [0,31,28,31,30,31,30,31,31,30,31,30,31]\n",
    "\n",
    "def is_leap(year):\n",
    "    \"\"\"returs true for leap and false for non leap year.\"\"\"\n",
    "    \n",
    "    return year%4 == 0 and (year%100 != 0 or year%400 == 0)\n",
    "\n",
    "def days_in_month(year,month):\n",
    "    \"\"\"returns no. of days in that month in that year.\"\"\"\n",
    "    \n",
    "    if not 1<= month <=12:\n",
    "        return 'Invalid month'\n",
    "    \n",
    "    if month == 2 and is_leap(year):\n",
    "        return 29\n",
    "    \n",
    "    return month_days[month]"
   ]
  },
  {
   "cell_type": "code",
   "execution_count": 27,
   "metadata": {},
   "outputs": [
    {
     "data": {
      "text/plain": [
       "31"
      ]
     },
     "execution_count": 27,
     "metadata": {},
     "output_type": "execute_result"
    }
   ],
   "source": [
    "days_in_month(1995,8)"
   ]
  },
  {
   "cell_type": "code",
   "execution_count": 28,
   "metadata": {},
   "outputs": [
    {
     "data": {
      "text/plain": [
       "29"
      ]
     },
     "execution_count": 28,
     "metadata": {},
     "output_type": "execute_result"
    }
   ],
   "source": [
    "days_in_month(2000,2)"
   ]
  },
  {
   "cell_type": "code",
   "execution_count": 29,
   "metadata": {},
   "outputs": [
    {
     "data": {
      "text/plain": [
       "28"
      ]
     },
     "execution_count": 29,
     "metadata": {},
     "output_type": "execute_result"
    }
   ],
   "source": [
    "days_in_month(1900,2)"
   ]
  },
  {
   "cell_type": "code",
   "execution_count": 30,
   "metadata": {},
   "outputs": [
    {
     "data": {
      "text/plain": [
       "False"
      ]
     },
     "execution_count": 30,
     "metadata": {},
     "output_type": "execute_result"
    }
   ],
   "source": [
    "is_leap(2015)"
   ]
  },
  {
   "cell_type": "code",
   "execution_count": 31,
   "metadata": {},
   "outputs": [
    {
     "data": {
      "text/plain": [
       "True"
      ]
     },
     "execution_count": 31,
     "metadata": {},
     "output_type": "execute_result"
    }
   ],
   "source": [
    "is_leap(2020)"
   ]
  },
  {
   "cell_type": "code",
   "execution_count": null,
   "metadata": {},
   "outputs": [],
   "source": [
    " "
   ]
  }
 ],
 "metadata": {
  "kernelspec": {
   "display_name": "Python 3",
   "language": "python",
   "name": "python3"
  },
  "language_info": {
   "codemirror_mode": {
    "name": "ipython",
    "version": 3
   },
   "file_extension": ".py",
   "mimetype": "text/x-python",
   "name": "python",
   "nbconvert_exporter": "python",
   "pygments_lexer": "ipython3",
   "version": "3.8.5"
  }
 },
 "nbformat": 4,
 "nbformat_minor": 4
}
