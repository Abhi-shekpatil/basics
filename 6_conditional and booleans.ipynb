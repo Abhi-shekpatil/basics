{
 "cells": [
  {
   "cell_type": "markdown",
   "metadata": {},
   "source": [
    "# Conditional and Booleans\n",
    "\n",
    "object identity - is"
   ]
  },
  {
   "cell_type": "code",
   "execution_count": 1,
   "metadata": {},
   "outputs": [
    {
     "name": "stdout",
     "output_type": "stream",
     "text": [
      "Conditional was True\n"
     ]
    }
   ],
   "source": [
    "#if\n",
    "if True:\n",
    "    print('Conditional was True')"
   ]
  },
  {
   "cell_type": "code",
   "execution_count": 4,
   "metadata": {},
   "outputs": [],
   "source": [
    "if False:\n",
    "    print('Conditional was True')"
   ]
  },
  {
   "cell_type": "code",
   "execution_count": 5,
   "metadata": {},
   "outputs": [
    {
     "name": "stdout",
     "output_type": "stream",
     "text": [
      "Conditional was True\n"
     ]
    }
   ],
   "source": [
    "lang = 'python'\n",
    "if lang == 'python':\n",
    "    print('Conditional was True')"
   ]
  },
  {
   "cell_type": "code",
   "execution_count": 7,
   "metadata": {},
   "outputs": [
    {
     "name": "stdout",
     "output_type": "stream",
     "text": [
      "no match\n"
     ]
    }
   ],
   "source": [
    "#else\n",
    "lang = 'java'\n",
    "if lang == 'python':\n",
    "    print('Language is Python')\n",
    "\n",
    "else:\n",
    "    print('no match')"
   ]
  },
  {
   "cell_type": "code",
   "execution_count": 9,
   "metadata": {},
   "outputs": [
    {
     "name": "stdout",
     "output_type": "stream",
     "text": [
      "Language is java\n"
     ]
    }
   ],
   "source": [
    "#elif\n",
    "lang = 'java'\n",
    "if lang == 'python':\n",
    "    print('Language is Python')\n",
    "elif lang == 'java':\n",
    "    print('Language is java')\n",
    "else:\n",
    "    print('no match')"
   ]
  },
  {
   "cell_type": "markdown",
   "metadata": {},
   "source": [
    "## there is no switch case statement in python as if, elif and else statement is enough"
   ]
  },
  {
   "cell_type": "markdown",
   "metadata": {},
   "source": [
    "## booleans\n",
    "and; \n",
    "or; \n",
    "not "
   ]
  },
  {
   "cell_type": "code",
   "execution_count": 12,
   "metadata": {},
   "outputs": [
    {
     "name": "stdout",
     "output_type": "stream",
     "text": [
      "bad creds\n"
     ]
    }
   ],
   "source": [
    "#And\n",
    "user = 'Admin'\n",
    "logged_in = False #try True\n",
    "\n",
    "if user == 'Admin' and logged_in:\n",
    "    print('Admin page')\n",
    "else:\n",
    "    print('bad creds')\n"
   ]
  },
  {
   "cell_type": "code",
   "execution_count": 13,
   "metadata": {},
   "outputs": [
    {
     "name": "stdout",
     "output_type": "stream",
     "text": [
      "Admin page\n"
     ]
    }
   ],
   "source": [
    "#or \n",
    "user = 'Admin'\n",
    "logged_in = False #try True\n",
    "\n",
    "if user == 'Admin' or logged_in:\n",
    "    print('Admin page')\n",
    "else:\n",
    "    print('bad creds')"
   ]
  },
  {
   "cell_type": "code",
   "execution_count": 14,
   "metadata": {},
   "outputs": [
    {
     "name": "stdout",
     "output_type": "stream",
     "text": [
      "please log in\n"
     ]
    }
   ],
   "source": [
    "#not\n",
    "user = 'Admin'\n",
    "logged_in = False #try True\n",
    "\n",
    "if not logged_in:  # not false\n",
    "    print('please log in')\n",
    "else:\n",
    "    print('welcome')"
   ]
  },
  {
   "cell_type": "code",
   "execution_count": 16,
   "metadata": {},
   "outputs": [
    {
     "name": "stdout",
     "output_type": "stream",
     "text": [
      "False\n"
     ]
    }
   ],
   "source": [
    "a = [1,2,3]\n",
    "b = [1,2,3]\n",
    "\n",
    "print(a is b)"
   ]
  },
  {
   "cell_type": "code",
   "execution_count": 17,
   "metadata": {},
   "outputs": [
    {
     "name": "stdout",
     "output_type": "stream",
     "text": [
      "True\n"
     ]
    }
   ],
   "source": [
    "print(a == b)"
   ]
  },
  {
   "cell_type": "code",
   "execution_count": 18,
   "metadata": {},
   "outputs": [
    {
     "name": "stdout",
     "output_type": "stream",
     "text": [
      "727146235840\n",
      "727144117568\n",
      "False\n"
     ]
    }
   ],
   "source": [
    "print(id(a))\n",
    "print(id(b))\n",
    "print(a is b)"
   ]
  },
  {
   "cell_type": "code",
   "execution_count": 19,
   "metadata": {},
   "outputs": [
    {
     "name": "stdout",
     "output_type": "stream",
     "text": [
      "727146235840\n",
      "727146235840\n",
      "True\n"
     ]
    }
   ],
   "source": [
    "b = a\n",
    "print(id(a))\n",
    "print(id(b))\n",
    "print(a is b)"
   ]
  },
  {
   "cell_type": "code",
   "execution_count": 21,
   "metadata": {},
   "outputs": [
    {
     "name": "stdout",
     "output_type": "stream",
     "text": [
      "False\n"
     ]
    }
   ],
   "source": [
    "b = a\n",
    "print(id(a) is id(b))"
   ]
  },
  {
   "cell_type": "code",
   "execution_count": 23,
   "metadata": {},
   "outputs": [
    {
     "name": "stdout",
     "output_type": "stream",
     "text": [
      "evaluated to False\n"
     ]
    }
   ],
   "source": [
    "condsn = False\n",
    "\n",
    "if condsn:\n",
    "    print('evaluated to True')\n",
    "else:\n",
    "    print('evaluated to False')\n",
    "    "
   ]
  },
  {
   "cell_type": "code",
   "execution_count": 24,
   "metadata": {},
   "outputs": [
    {
     "name": "stdout",
     "output_type": "stream",
     "text": [
      "evaluated to False\n"
     ]
    }
   ],
   "source": [
    "condsn = None\n",
    "\n",
    "if condsn:\n",
    "    print('evaluated to True')\n",
    "else:\n",
    "    print('evaluated to False')\n",
    "    "
   ]
  },
  {
   "cell_type": "code",
   "execution_count": 25,
   "metadata": {},
   "outputs": [
    {
     "name": "stdout",
     "output_type": "stream",
     "text": [
      "evaluated to False\n"
     ]
    }
   ],
   "source": [
    "condsn = 0\n",
    "\n",
    "if condsn:\n",
    "    print('evaluated to True')\n",
    "else:\n",
    "    print('evaluated to False')\n",
    "    "
   ]
  },
  {
   "cell_type": "code",
   "execution_count": 27,
   "metadata": {},
   "outputs": [
    {
     "name": "stdout",
     "output_type": "stream",
     "text": [
      "evaluated to True\n"
     ]
    }
   ],
   "source": [
    "condsn = 2 #or any other number\n",
    "\n",
    "if condsn:\n",
    "    print('evaluated to True')\n",
    "else:\n",
    "    print('evaluated to False')\n",
    "    "
   ]
  },
  {
   "cell_type": "code",
   "execution_count": 28,
   "metadata": {},
   "outputs": [
    {
     "name": "stdout",
     "output_type": "stream",
     "text": [
      "evaluated to False\n"
     ]
    }
   ],
   "source": [
    "condsn = []\n",
    "\n",
    "if condsn:\n",
    "    print('evaluated to True')\n",
    "else:\n",
    "    print('evaluated to False')\n",
    "    "
   ]
  },
  {
   "cell_type": "code",
   "execution_count": 29,
   "metadata": {},
   "outputs": [
    {
     "name": "stdout",
     "output_type": "stream",
     "text": [
      "evaluated to False\n"
     ]
    }
   ],
   "source": [
    "condsn = ()\n",
    "\n",
    "if condsn:\n",
    "    print('evaluated to True')\n",
    "else:\n",
    "    print('evaluated to False')\n",
    "    "
   ]
  },
  {
   "cell_type": "code",
   "execution_count": 30,
   "metadata": {},
   "outputs": [
    {
     "name": "stdout",
     "output_type": "stream",
     "text": [
      "evaluated to False\n"
     ]
    }
   ],
   "source": [
    "condsn = {}\n",
    "\n",
    "if condsn:\n",
    "    print('evaluated to True')\n",
    "else:\n",
    "    print('evaluated to False')\n",
    "    "
   ]
  },
  {
   "cell_type": "code",
   "execution_count": 31,
   "metadata": {},
   "outputs": [
    {
     "name": "stdout",
     "output_type": "stream",
     "text": [
      "evaluated to True\n"
     ]
    }
   ],
   "source": [
    "condsn = 'Test'\n",
    "\n",
    "if condsn:\n",
    "    print('evaluated to True')\n",
    "else:\n",
    "    print('evaluated to False')\n",
    "    "
   ]
  },
  {
   "cell_type": "code",
   "execution_count": null,
   "metadata": {},
   "outputs": [],
   "source": []
  }
 ],
 "metadata": {
  "kernelspec": {
   "display_name": "Python 3",
   "language": "python",
   "name": "python3"
  },
  "language_info": {
   "codemirror_mode": {
    "name": "ipython",
    "version": 3
   },
   "file_extension": ".py",
   "mimetype": "text/x-python",
   "name": "python",
   "nbconvert_exporter": "python",
   "pygments_lexer": "ipython3",
   "version": "3.8.5"
  }
 },
 "nbformat": 4,
 "nbformat_minor": 4
}
