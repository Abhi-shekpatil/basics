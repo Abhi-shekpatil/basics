{
 "cells": [
  {
   "cell_type": "markdown",
   "metadata": {},
   "source": [
    "# importing modules"
   ]
  },
  {
   "cell_type": "code",
   "execution_count": 1,
   "metadata": {},
   "outputs": [
    {
     "name": "stdout",
     "output_type": "stream",
     "text": [
      "Imported my_module...\n"
     ]
    }
   ],
   "source": [
    "print('Imported my_module...')\n",
    "\n",
    "test = 'Test String'\n",
    "\n",
    "\n",
    "def find_index(to_search, target):\n",
    "    \"\"\"Find the index of a value in a sequence\"\"\"\n",
    "    for i, value in enumerate(to_search):\n",
    "        if value == target:\n",
    "            return i\n",
    "        \n",
    "    return -1"
   ]
  },
  {
   "cell_type": "code",
   "execution_count": 5,
   "metadata": {},
   "outputs": [
    {
     "name": "stdout",
     "output_type": "stream",
     "text": [
      "1\n"
     ]
    }
   ],
   "source": [
    "import my_modules\n",
    "\n",
    "courses = ['Hisrory', 'Math', 'Physics', 'compsci']\n",
    "\n",
    "index  = my_modules.find_index(courses,'Math')  #large name\n",
    "print(index)"
   ]
  },
  {
   "cell_type": "code",
   "execution_count": 6,
   "metadata": {},
   "outputs": [
    {
     "name": "stdout",
     "output_type": "stream",
     "text": [
      "1\n"
     ]
    }
   ],
   "source": [
    "import my_modules as mm\n",
    "\n",
    "courses = ['Hisrory', 'Math', 'Physics', 'compsci']\n",
    "\n",
    "index  = mm.find_index(courses,'Math')  #short name\n",
    "print(index)"
   ]
  },
  {
   "cell_type": "code",
   "execution_count": 8,
   "metadata": {},
   "outputs": [
    {
     "name": "stdout",
     "output_type": "stream",
     "text": [
      "1\n"
     ]
    }
   ],
   "source": [
    "#to use function\n",
    "from my_modules import find_index\n",
    "\n",
    "courses = ['Hisrory', 'Math', 'Physics', 'compsci']\n",
    "\n",
    "index  = find_index(courses,'Math')        #but now the test_string variable is not available\n",
    "print(index)"
   ]
  },
  {
   "cell_type": "code",
   "execution_count": 9,
   "metadata": {},
   "outputs": [
    {
     "name": "stdout",
     "output_type": "stream",
     "text": [
      "1\n",
      "Test String\n"
     ]
    }
   ],
   "source": [
    "from my_modules import find_index,test\n",
    "\n",
    "courses = ['Hisrory', 'Math', 'Physics', 'compsci']\n",
    "\n",
    "index  = find_index(courses,'Math')        \n",
    "print(index)\n",
    "print(test)"
   ]
  },
  {
   "cell_type": "code",
   "execution_count": 10,
   "metadata": {},
   "outputs": [
    {
     "name": "stdout",
     "output_type": "stream",
     "text": [
      "1\n",
      "Test String\n"
     ]
    }
   ],
   "source": [
    "from my_modules import find_index as fi,test            \n",
    "\n",
    "courses = ['Hisrory', 'Math', 'Physics', 'compsci']\n",
    "\n",
    "index  = find_index(courses,'Math')        \n",
    "print(index)\n",
    "print(test)"
   ]
  },
  {
   "cell_type": "code",
   "execution_count": 11,
   "metadata": {},
   "outputs": [
    {
     "name": "stdout",
     "output_type": "stream",
     "text": [
      "1\n",
      "Test String\n"
     ]
    }
   ],
   "source": [
    "from my_modules import *                             #all of the things can be imported\n",
    "\n",
    "courses = ['Hisrory', 'Math', 'Physics', 'compsci']\n",
    "\n",
    "index  = find_index(courses,'Math')        \n",
    "print(index)\n",
    "print(test)"
   ]
  },
  {
   "cell_type": "code",
   "execution_count": 17,
   "metadata": {},
   "outputs": [
    {
     "name": "stdout",
     "output_type": "stream",
     "text": [
      "['C:\\\\Users\\\\Intel\\\\Desktop\\\\summer analytics', 'C:\\\\Users\\\\Intel\\\\anaconda3\\\\python38.zip', 'C:\\\\Users\\\\Intel\\\\anaconda3\\\\DLLs', 'C:\\\\Users\\\\Intel\\\\anaconda3\\\\lib', 'C:\\\\Users\\\\Intel\\\\anaconda3', '', 'C:\\\\Users\\\\Intel\\\\AppData\\\\Roaming\\\\Python\\\\Python38\\\\site-packages', 'C:\\\\Users\\\\Intel\\\\anaconda3\\\\lib\\\\site-packages', 'C:\\\\Users\\\\Intel\\\\anaconda3\\\\lib\\\\site-packages\\\\win32', 'C:\\\\Users\\\\Intel\\\\anaconda3\\\\lib\\\\site-packages\\\\win32\\\\lib', 'C:\\\\Users\\\\Intel\\\\anaconda3\\\\lib\\\\site-packages\\\\Pythonwin', 'C:\\\\Users\\\\Intel\\\\anaconda3\\\\lib\\\\site-packages\\\\IPython\\\\extensions', 'C:\\\\Users\\\\Intel\\\\.ipython']\n"
     ]
    }
   ],
   "source": [
    "from my_modules import find_index,test\n",
    "import sys\n",
    "\n",
    "courses = ['Hisrory', 'Math', 'Physics', 'compsci']\n",
    "\n",
    "index  = find_index(courses,'Math')        \n",
    "# print(index)\n",
    "# print(test)\n",
    "print(sys.path)"
   ]
  },
  {
   "cell_type": "code",
   "execution_count": 19,
   "metadata": {},
   "outputs": [
    {
     "name": "stdout",
     "output_type": "stream",
     "text": [
      "['C:\\\\Users\\\\Intel\\\\Desktop\\\\summer analytics', 'C:\\\\Users\\\\Intel\\\\anaconda3\\\\python38.zip', 'C:\\\\Users\\\\Intel\\\\anaconda3\\\\DLLs', 'C:\\\\Users\\\\Intel\\\\anaconda3\\\\lib', 'C:\\\\Users\\\\Intel\\\\anaconda3', '', 'C:\\\\Users\\\\Intel\\\\AppData\\\\Roaming\\\\Python\\\\Python38\\\\site-packages', 'C:\\\\Users\\\\Intel\\\\anaconda3\\\\lib\\\\site-packages', 'C:\\\\Users\\\\Intel\\\\anaconda3\\\\lib\\\\site-packages\\\\win32', 'C:\\\\Users\\\\Intel\\\\anaconda3\\\\lib\\\\site-packages\\\\win32\\\\lib', 'C:\\\\Users\\\\Intel\\\\anaconda3\\\\lib\\\\site-packages\\\\Pythonwin', 'C:\\\\Users\\\\Intel\\\\anaconda3\\\\lib\\\\site-packages\\\\IPython\\\\extensions', 'C:\\\\Users\\\\Intel\\\\.ipython']\n"
     ]
    }
   ],
   "source": [
    "from my_modules import find_index,test\n",
    "import sys\n",
    "\n",
    "courses = ['Hisrory', 'Math', 'Physics', 'compsci']\n",
    "\n",
    "index  = find_index(courses,'Math')        \n",
    "# print(index)\n",
    "# print(test)\n",
    "print(sys.path)"
   ]
  },
  {
   "cell_type": "code",
   "execution_count": 20,
   "metadata": {},
   "outputs": [
    {
     "name": "stdout",
     "output_type": "stream",
     "text": [
      "['C:\\\\Users\\\\Intel\\\\Desktop\\\\summer analytics', 'C:\\\\Users\\\\Intel\\\\anaconda3\\\\python38.zip', 'C:\\\\Users\\\\Intel\\\\anaconda3\\\\DLLs', 'C:\\\\Users\\\\Intel\\\\anaconda3\\\\lib', 'C:\\\\Users\\\\Intel\\\\anaconda3', '', 'C:\\\\Users\\\\Intel\\\\AppData\\\\Roaming\\\\Python\\\\Python38\\\\site-packages', 'C:\\\\Users\\\\Intel\\\\anaconda3\\\\lib\\\\site-packages', 'C:\\\\Users\\\\Intel\\\\anaconda3\\\\lib\\\\site-packages\\\\win32', 'C:\\\\Users\\\\Intel\\\\anaconda3\\\\lib\\\\site-packages\\\\win32\\\\lib', 'C:\\\\Users\\\\Intel\\\\anaconda3\\\\lib\\\\site-packages\\\\Pythonwin', 'C:\\\\Users\\\\Intel\\\\anaconda3\\\\lib\\\\site-packages\\\\IPython\\\\extensions', 'C:\\\\Users\\\\Intel\\\\.ipython', '/Users/Intel/Saved Games/my_module']\n"
     ]
    }
   ],
   "source": [
    "#C:\\Users\\Intel\\Saved Games\n",
    "\n",
    "\n",
    "import sys\n",
    "\n",
    "sys.path.append('/Users/Intel/Saved Games/my_module')   #appending a directory\n",
    "\n",
    "from my_modules import find_index,test\n",
    "\n",
    "courses = ['Hisrory', 'Math', 'Physics', 'compsci']\n",
    "\n",
    "index  = find_index(courses,'Math')        \n",
    "# print(index)\n",
    "# print(test)\n",
    "print(sys.path)"
   ]
  },
  {
   "cell_type": "code",
   "execution_count": 25,
   "metadata": {},
   "outputs": [
    {
     "name": "stdout",
     "output_type": "stream",
     "text": [
      "compsci\n"
     ]
    }
   ],
   "source": [
    "import random\n",
    "\n",
    "courses = ['Hisrory', 'Math', 'Physics', 'compsci']\n",
    "\n",
    "random_course = random.choice(courses)\n",
    "\n",
    "print(random_course)"
   ]
  },
  {
   "cell_type": "code",
   "execution_count": 26,
   "metadata": {},
   "outputs": [
    {
     "name": "stdout",
     "output_type": "stream",
     "text": [
      "1.5707963267948966\n"
     ]
    }
   ],
   "source": [
    "import math\n",
    "\n",
    "courses = ['Hisrory', 'Math', 'Physics', 'compsci']\n",
    "\n",
    "rdns = math.radians(90)\n",
    "print(rdns)"
   ]
  },
  {
   "cell_type": "code",
   "execution_count": 27,
   "metadata": {},
   "outputs": [
    {
     "name": "stdout",
     "output_type": "stream",
     "text": [
      "1.0\n"
     ]
    }
   ],
   "source": [
    "print(math.sin(rdns))"
   ]
  },
  {
   "cell_type": "code",
   "execution_count": 31,
   "metadata": {},
   "outputs": [
    {
     "name": "stdout",
     "output_type": "stream",
     "text": [
      "2021-05-20\n",
      "True\n"
     ]
    }
   ],
   "source": [
    "import datetime\n",
    "import calendar\n",
    "\n",
    "today = datetime.date.today()\n",
    "print(today)\n",
    "\n",
    "print(calendar.isleap(2016))"
   ]
  },
  {
   "cell_type": "code",
   "execution_count": 32,
   "metadata": {},
   "outputs": [
    {
     "name": "stdout",
     "output_type": "stream",
     "text": [
      "C:\\Users\\Intel\\Desktop\\summer analytics\n"
     ]
    }
   ],
   "source": [
    "import os\n",
    "\n",
    "print(os.getcwd())"
   ]
  },
  {
   "cell_type": "code",
   "execution_count": 34,
   "metadata": {},
   "outputs": [
    {
     "name": "stdout",
     "output_type": "stream",
     "text": [
      "C:\\Users\\Intel\\anaconda3\\lib\\os.py\n"
     ]
    }
   ],
   "source": [
    "print(os.__file__  )    #__ is known as dunder  #"
   ]
  },
  {
   "cell_type": "code",
   "execution_count": 38,
   "metadata": {},
   "outputs": [],
   "source": [
    "import antigravity"
   ]
  }
 ],
 "metadata": {
  "kernelspec": {
   "display_name": "Python 3",
   "language": "python",
   "name": "python3"
  },
  "language_info": {
   "codemirror_mode": {
    "name": "ipython",
    "version": 3
   },
   "file_extension": ".py",
   "mimetype": "text/x-python",
   "name": "python",
   "nbconvert_exporter": "python",
   "pygments_lexer": "ipython3",
   "version": "3.8.5"
  }
 },
 "nbformat": 4,
 "nbformat_minor": 4
}
